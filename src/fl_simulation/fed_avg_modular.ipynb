{
 "cells": [
  {
   "cell_type": "code",
   "execution_count": 1,
   "id": "902ce877-c796-4abd-91e0-dd5cdad766f6",
   "metadata": {},
   "outputs": [
    {
     "name": "stdout",
     "output_type": "stream",
     "text": [
      "Project root: /Users/christophbout/Library/Mobile Documents/com~apple~CloudDocs/FH/5. Semester/Capstone Innovation Project/Code/Sec_Federated_Learning\n"
     ]
    }
   ],
   "source": [
    "# --- Environment setup and imports ---\n",
    "\n",
    "import os, sys\n",
    "from pathlib import Path\n",
    "\n",
    "root = Path(\"../..\").resolve()   \n",
    "sys.path.append(str(root))\n",
    "\n",
    "# sanity check\n",
    "print(\"Project root:\", root)\n",
    "\n",
    "# --- Core libraries ---\n",
    "import copy\n",
    "import random\n",
    "import torch\n",
    "from torch import nn, optim\n",
    "from torchvision import datasets, transforms, models\n",
    "from torch.utils.data import DataLoader, Subset\n",
    "\n",
    "# --- Default parameters (used in old loop or new config overrides) ---\n",
    "number_of_clients = 3\n",
    "number_of_rounds = 5"
   ]
  },
  {
   "cell_type": "code",
   "execution_count": 2,
   "id": "d9418489-d662-454c-a872-e7a80b628b46",
   "metadata": {
    "scrolled": true
   },
   "outputs": [],
   "source": [
    "from src.utils.config_utils import load_config, normalize_config\n",
    "from src.utils.exp_utils import compute_exp_id, ensure_exp_dirs\n",
    "from src.utils.logging_utils import JsonlLogger, get_git_commit\n",
    "from src.orchestrator.pipeline import run_training_rounds"
   ]
  },
  {
   "cell_type": "code",
   "execution_count": 3,
   "id": "a3cbcb6f-1e17-448e-98fc-083c0621dd9b",
   "metadata": {},
   "outputs": [
    {
     "data": {
      "text/plain": [
       "{'defaults': [],\n",
       " 'project': {'name': 'dp_fedlearn', 'output_dir': 'reports'},\n",
       " 'seed': 1,\n",
       " 'commit': '42ff3a20d7fe354ef509b5a3aacd9f1c89ffd235',\n",
       " 'data': {'dataset': 'CIFAR10',\n",
       "  'num_clients': 5,\n",
       "  'clients_per_round': 3,\n",
       "  'partition': 'iid',\n",
       "  'dirichlet_alpha': 0.5},\n",
       " 'model': {'name': 'smallcnn', 'num_classes': 10},\n",
       " 'training': {'rounds': 2,\n",
       "  'local_epochs': 1,\n",
       "  'batch_size': 64,\n",
       "  'lr': 0.01,\n",
       "  'optimizer': 'sgd'},\n",
       " 'encryption': {'scheme': 'dp_selective',\n",
       "  'layers': 'L1',\n",
       "  'noise_multiplier': 0.5,\n",
       "  'clip_norm': 1.0,\n",
       "  'secure_aggregation': False},\n",
       " 'attack': {'name': 'yin', 'recon_per_client': 8, 'max_iters': 1000},\n",
       " 'logging': {'to_jsonl': True,\n",
       "  'to_mlflow': False,\n",
       "  'mlflow_tracking_uri': None,\n",
       "  'level': 'INFO'},\n",
       " 'orchestration': {'exp_id': None}}"
      ]
     },
     "execution_count": 3,
     "metadata": {},
     "output_type": "execute_result"
    }
   ],
   "source": [
    "# --- Configure experiment (edit as needed) ---\n",
    "overrides = [\n",
    "    \"model.name=smallcnn\",\n",
    "    \"data.partition=iid\",\n",
    "    \"data.num_clients=5\",\n",
    "    \"data.clients_per_round=3\",\n",
    "    \"training.rounds=2\",\n",
    "    \"training.local_epochs=1\",\n",
    "    \"training.batch_size=64\",\n",
    "    \"training.lr=0.01\",\n",
    "    \"encryption.scheme=dp_selective\",\n",
    "    \"encryption.layers=L1\",\n",
    "    \"encryption.noise_multiplier=0.5\",\n",
    "    \"encryption.clip_norm=1.0\",\n",
    "]\n",
    "\n",
    "cfg = load_config(\"../../configs/config.yaml\", overrides)\n",
    "cfg[\"commit\"] = get_git_commit()\n",
    "cfg"
   ]
  },
  {
   "cell_type": "code",
   "execution_count": 4,
   "id": "38bacbff-3f37-4844-87b9-b4ae83e1d670",
   "metadata": {},
   "outputs": [
    {
     "name": "stdout",
     "output_type": "stream",
     "text": [
      "Experiment ID: ef2b17ddf180bea3\n",
      "Output folder: reports/ef2b17ddf180bea3\n"
     ]
    }
   ],
   "source": [
    "exp_id = compute_exp_id(normalize_config(cfg))\n",
    "exp_root = ensure_exp_dirs(cfg[\"project\"][\"output_dir\"], exp_id)\n",
    "\n",
    "logger = JsonlLogger(\n",
    "    exp_root / \"train.jsonl\",\n",
    "    extra={\"exp_id\": exp_id, \"commit\": cfg[\"commit\"], \"seed\": cfg[\"seed\"]},\n",
    ")\n",
    "\n",
    "print(f\"Experiment ID: {exp_id}\")\n",
    "print(f\"Output folder: {exp_root}\")"
   ]
  },
  {
   "cell_type": "code",
   "execution_count": null,
   "id": "d2ef1346",
   "metadata": {},
   "outputs": [
    {
     "name": "stderr",
     "output_type": "stream",
     "text": [
      "100%|██████████████████████████████████████████████████████████████████| 170M/170M [00:15<00:00, 10.9MB/s]\n"
     ]
    }
   ],
   "source": [
    "results = run_training_rounds(cfg, exp_root, logger)\n",
    "print(\"Results:\", results)"
   ]
  },
  {
   "cell_type": "code",
   "execution_count": null,
   "id": "e3c134e9",
   "metadata": {},
   "outputs": [],
   "source": [
    "import pandas as pd\n",
    "import matplotlib.pyplot as plt\n",
    "\n",
    "train_log = pd.read_json(exp_root / \"train.jsonl\", lines=True)\n",
    "display(train_log)\n",
    "\n",
    "plt.plot(train_log[\"round\"], train_log[\"top1\"], marker=\"o\")\n",
    "plt.title(\"Top-1 Accuracy per Round\")\n",
    "plt.xlabel(\"Round\")\n",
    "plt.ylabel(\"Accuracy\")\n",
    "plt.grid(True)\n",
    "plt.show()"
   ]
  }
 ],
 "metadata": {
  "kernelspec": {
   "display_name": "Python 3 (ipykernel)",
   "language": "python",
   "name": "python3"
  },
  "language_info": {
   "codemirror_mode": {
    "name": "ipython",
    "version": 3
   },
   "file_extension": ".py",
   "mimetype": "text/x-python",
   "name": "python",
   "nbconvert_exporter": "python",
   "pygments_lexer": "ipython3",
   "version": "3.13.5"
  }
 },
 "nbformat": 4,
 "nbformat_minor": 5
}
