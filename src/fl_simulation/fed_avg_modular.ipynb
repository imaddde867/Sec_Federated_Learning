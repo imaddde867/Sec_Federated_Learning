{
 "cells": [
  {
   "cell_type": "code",
   "execution_count": 1,
   "id": "902ce877-c796-4abd-91e0-dd5cdad766f6",
   "metadata": {},
   "outputs": [
    {
     "name": "stdout",
     "output_type": "stream",
     "text": [
      "Project root: /Users/christophbout/Library/Mobile Documents/com~apple~CloudDocs/FH/5. Semester/Capstone Innovation Project/Code/Sec_Federated_Learning/Sec_Federated_Learning\n"
     ]
    }
   ],
   "source": [
    "# --- Environment setup and imports ---\n",
    "\n",
    "import os, sys\n",
    "from pathlib import Path\n",
    "\n",
    "root = Path(\"../..\").resolve()   \n",
    "sys.path.append(str(root))\n",
    "\n",
    "# sanity check\n",
    "print(\"Project root:\", root)\n",
    "\n",
    "# --- Core libraries ---\n",
    "import copy\n",
    "import random\n",
    "import torch\n",
    "from torch import nn, optim\n",
    "from torchvision import datasets, transforms, models\n",
    "from torch.utils.data import DataLoader, Subset\n",
    "\n",
    "# --- Default parameters (used in old loop or new config overrides) ---\n",
    "number_of_clients = 3\n",
    "number_of_rounds = 5"
   ]
  },
  {
   "cell_type": "code",
   "execution_count": 2,
   "id": "d9418489-d662-454c-a872-e7a80b628b46",
   "metadata": {
    "scrolled": true
   },
   "outputs": [],
   "source": [
    "from src.utils.config_utils import load_config, normalize_config\n",
    "from src.utils.exp_utils import compute_exp_id, ensure_exp_dirs\n",
    "from src.utils.logging_utils import JsonlLogger, get_git_commit\n",
    "from src.orchestrator.pipeline import run_training_rounds"
   ]
  },
  {
   "cell_type": "code",
   "execution_count": 3,
   "id": "a3cbcb6f-1e17-448e-98fc-083c0621dd9b",
   "metadata": {},
   "outputs": [
    {
     "data": {
      "text/plain": [
       "{'defaults': [],\n",
       " 'project': {'name': 'dp_fedlearn', 'output_dir': 'reports'},\n",
       " 'seed': 1,\n",
       " 'commit': '6da5b815a7a607ac74d759cd6de907acd9a8ac0b',\n",
       " 'data': {'dataset': 'CIFAR10',\n",
       "  'num_clients': 5,\n",
       "  'clients_per_round': 3,\n",
       "  'partition': 'iid',\n",
       "  'dirichlet_alpha': 0.5},\n",
       " 'model': {'name': 'smallcnn', 'num_classes': 10},\n",
       " 'training': {'rounds': 2,\n",
       "  'local_epochs': 1,\n",
       "  'batch_size': 64,\n",
       "  'lr': 0.01,\n",
       "  'optimizer': 'sgd'},\n",
       " 'encryption': {'scheme': 'dp_selective',\n",
       "  'layers': 'L1',\n",
       "  'noise_multiplier': 0.5,\n",
       "  'clip_norm': 1.0,\n",
       "  'secure_aggregation': False},\n",
       " 'attack': {'name': 'yin', 'recon_per_client': 8, 'max_iters': 1000},\n",
       " 'logging': {'to_jsonl': True,\n",
       "  'to_mlflow': False,\n",
       "  'mlflow_tracking_uri': None,\n",
       "  'level': 'INFO'},\n",
       " 'orchestration': {'exp_id': None}}"
      ]
     },
     "execution_count": 3,
     "metadata": {},
     "output_type": "execute_result"
    }
   ],
   "source": [
    "# --- Configure experiment (edit as needed) ---\n",
    "overrides = [\n",
    "    \"model.name=smallcnn\",\n",
    "    \"data.partition=iid\",\n",
    "    \"data.num_clients=5\",\n",
    "    \"data.clients_per_round=3\",\n",
    "    \"training.rounds=2\",\n",
    "    \"training.local_epochs=1\",\n",
    "    \"training.batch_size=64\",\n",
    "    \"training.lr=0.01\",\n",
    "    \"encryption.scheme=dp_selective\",\n",
    "    \"encryption.layers=L1\",\n",
    "    \"encryption.noise_multiplier=0.5\",\n",
    "    \"encryption.clip_norm=1.0\",\n",
    "]\n",
    "\n",
    "cfg = load_config(\"../../configs/config.yaml\", overrides)\n",
    "cfg[\"commit\"] = get_git_commit()\n",
    "cfg"
   ]
  },
  {
   "cell_type": "code",
   "execution_count": 4,
   "id": "38bacbff-3f37-4844-87b9-b4ae83e1d670",
   "metadata": {},
   "outputs": [
    {
     "name": "stdout",
     "output_type": "stream",
     "text": [
      "Experiment ID: b2e9d51752a2e71e\n",
      "Output folder: reports/b2e9d51752a2e71e\n"
     ]
    }
   ],
   "source": [
    "exp_id = compute_exp_id(normalize_config(cfg))\n",
    "exp_root = ensure_exp_dirs(cfg[\"project\"][\"output_dir\"], exp_id)\n",
    "\n",
    "logger = JsonlLogger(\n",
    "    exp_root / \"train.jsonl\",\n",
    "    extra={\"exp_id\": exp_id, \"commit\": cfg[\"commit\"], \"seed\": cfg[\"seed\"]},\n",
    ")\n",
    "\n",
    "print(f\"Experiment ID: {exp_id}\")\n",
    "print(f\"Output folder: {exp_root}\")"
   ]
  },
  {
   "cell_type": "code",
   "execution_count": 5,
   "id": "d2ef1346",
   "metadata": {},
   "outputs": [
    {
     "name": "stdout",
     "output_type": "stream",
     "text": [
      "[YinAttack] Placeholder reconstruction saved to test_recon/reconstructed.pt\n",
      "[YinAttack] Placeholder reconstruction saved to reports/b2e9d51752a2e71e/recon/reconstructed.pt\n",
      "Results: {'top1': 0.095, 'privacy': {'psnr': 30.0, 'ssim': 0.3, 'lpips': 0.7}}\n"
     ]
    }
   ],
   "source": [
    "from src.attacks.yin_attack import YinReconstructionAttack\n",
    "from pathlib import Path\n",
    "import torch\n",
    "\n",
    "attack = YinReconstructionAttack()\n",
    "dummy_model = torch.nn.Linear(10, 10)\n",
    "attack.reconstruct(dummy_model, Path(\"test_recon\"))\n",
    "\n",
    "results = run_training_rounds(cfg, exp_root, logger)\n",
    "print(\"Results:\", results)"
   ]
  },
  {
   "cell_type": "code",
   "execution_count": 6,
   "id": "e3c134e9",
   "metadata": {},
   "outputs": [
    {
     "data": {
      "text/html": [
       "<div>\n",
       "<style scoped>\n",
       "    .dataframe tbody tr th:only-of-type {\n",
       "        vertical-align: middle;\n",
       "    }\n",
       "\n",
       "    .dataframe tbody tr th {\n",
       "        vertical-align: top;\n",
       "    }\n",
       "\n",
       "    .dataframe thead th {\n",
       "        text-align: right;\n",
       "    }\n",
       "</style>\n",
       "<table border=\"1\" class=\"dataframe\">\n",
       "  <thead>\n",
       "    <tr style=\"text-align: right;\">\n",
       "      <th></th>\n",
       "      <th>ts</th>\n",
       "      <th>level</th>\n",
       "      <th>event</th>\n",
       "      <th>exp_id</th>\n",
       "      <th>commit</th>\n",
       "      <th>seed</th>\n",
       "      <th>round</th>\n",
       "      <th>top1</th>\n",
       "      <th>bytes_up</th>\n",
       "      <th>bytes_down</th>\n",
       "      <th>time_s</th>\n",
       "    </tr>\n",
       "  </thead>\n",
       "  <tbody>\n",
       "    <tr>\n",
       "      <th>0</th>\n",
       "      <td>2025-10-28T08:36:08.063333Z</td>\n",
       "      <td>INFO</td>\n",
       "      <td>round_end</td>\n",
       "      <td>b2e9d51752a2e71e</td>\n",
       "      <td>6da5b815a7a607ac74d759cd6de907acd9a8ac0b</td>\n",
       "      <td>1</td>\n",
       "      <td>0</td>\n",
       "      <td>0.1498</td>\n",
       "      <td>123456</td>\n",
       "      <td>654321</td>\n",
       "      <td>25.645125</td>\n",
       "    </tr>\n",
       "    <tr>\n",
       "      <th>1</th>\n",
       "      <td>2025-10-28T08:36:33.833633Z</td>\n",
       "      <td>INFO</td>\n",
       "      <td>round_end</td>\n",
       "      <td>b2e9d51752a2e71e</td>\n",
       "      <td>6da5b815a7a607ac74d759cd6de907acd9a8ac0b</td>\n",
       "      <td>1</td>\n",
       "      <td>1</td>\n",
       "      <td>0.1140</td>\n",
       "      <td>123456</td>\n",
       "      <td>654321</td>\n",
       "      <td>25.770168</td>\n",
       "    </tr>\n",
       "    <tr>\n",
       "      <th>2</th>\n",
       "      <td>2025-10-28T08:42:17.129481Z</td>\n",
       "      <td>INFO</td>\n",
       "      <td>round_end</td>\n",
       "      <td>b2e9d51752a2e71e</td>\n",
       "      <td>6da5b815a7a607ac74d759cd6de907acd9a8ac0b</td>\n",
       "      <td>1</td>\n",
       "      <td>0</td>\n",
       "      <td>0.0939</td>\n",
       "      <td>123456</td>\n",
       "      <td>654321</td>\n",
       "      <td>25.230159</td>\n",
       "    </tr>\n",
       "    <tr>\n",
       "      <th>3</th>\n",
       "      <td>2025-10-28T08:42:42.442154Z</td>\n",
       "      <td>INFO</td>\n",
       "      <td>round_end</td>\n",
       "      <td>b2e9d51752a2e71e</td>\n",
       "      <td>6da5b815a7a607ac74d759cd6de907acd9a8ac0b</td>\n",
       "      <td>1</td>\n",
       "      <td>1</td>\n",
       "      <td>0.1658</td>\n",
       "      <td>123456</td>\n",
       "      <td>654321</td>\n",
       "      <td>25.311841</td>\n",
       "    </tr>\n",
       "    <tr>\n",
       "      <th>4</th>\n",
       "      <td>2025-10-28T08:47:44.581692Z</td>\n",
       "      <td>INFO</td>\n",
       "      <td>round_end</td>\n",
       "      <td>b2e9d51752a2e71e</td>\n",
       "      <td>6da5b815a7a607ac74d759cd6de907acd9a8ac0b</td>\n",
       "      <td>1</td>\n",
       "      <td>0</td>\n",
       "      <td>0.1229</td>\n",
       "      <td>123456</td>\n",
       "      <td>654321</td>\n",
       "      <td>25.634329</td>\n",
       "    </tr>\n",
       "    <tr>\n",
       "      <th>5</th>\n",
       "      <td>2025-10-28T08:48:10.373202Z</td>\n",
       "      <td>INFO</td>\n",
       "      <td>round_end</td>\n",
       "      <td>b2e9d51752a2e71e</td>\n",
       "      <td>6da5b815a7a607ac74d759cd6de907acd9a8ac0b</td>\n",
       "      <td>1</td>\n",
       "      <td>1</td>\n",
       "      <td>0.0950</td>\n",
       "      <td>123456</td>\n",
       "      <td>654321</td>\n",
       "      <td>25.790685</td>\n",
       "    </tr>\n",
       "  </tbody>\n",
       "</table>\n",
       "</div>"
      ],
      "text/plain": [
       "                            ts level      event            exp_id  \\\n",
       "0  2025-10-28T08:36:08.063333Z  INFO  round_end  b2e9d51752a2e71e   \n",
       "1  2025-10-28T08:36:33.833633Z  INFO  round_end  b2e9d51752a2e71e   \n",
       "2  2025-10-28T08:42:17.129481Z  INFO  round_end  b2e9d51752a2e71e   \n",
       "3  2025-10-28T08:42:42.442154Z  INFO  round_end  b2e9d51752a2e71e   \n",
       "4  2025-10-28T08:47:44.581692Z  INFO  round_end  b2e9d51752a2e71e   \n",
       "5  2025-10-28T08:48:10.373202Z  INFO  round_end  b2e9d51752a2e71e   \n",
       "\n",
       "                                     commit  seed  round    top1  bytes_up  \\\n",
       "0  6da5b815a7a607ac74d759cd6de907acd9a8ac0b     1      0  0.1498    123456   \n",
       "1  6da5b815a7a607ac74d759cd6de907acd9a8ac0b     1      1  0.1140    123456   \n",
       "2  6da5b815a7a607ac74d759cd6de907acd9a8ac0b     1      0  0.0939    123456   \n",
       "3  6da5b815a7a607ac74d759cd6de907acd9a8ac0b     1      1  0.1658    123456   \n",
       "4  6da5b815a7a607ac74d759cd6de907acd9a8ac0b     1      0  0.1229    123456   \n",
       "5  6da5b815a7a607ac74d759cd6de907acd9a8ac0b     1      1  0.0950    123456   \n",
       "\n",
       "   bytes_down     time_s  \n",
       "0      654321  25.645125  \n",
       "1      654321  25.770168  \n",
       "2      654321  25.230159  \n",
       "3      654321  25.311841  \n",
       "4      654321  25.634329  \n",
       "5      654321  25.790685  "
      ]
     },
     "metadata": {},
     "output_type": "display_data"
    },
    {
     "data": {
      "image/png": "[encoded data removed]",
      "text/plain": [
       "<Figure size 640x480 with 1 Axes>"
      ]
     },
     "metadata": {},
     "output_type": "display_data"
    }
   ],
   "source": [
    "import pandas as pd\n",
    "import matplotlib.pyplot as plt\n",
    "\n",
    "train_log = pd.read_json(exp_root / \"train.jsonl\", lines=True)\n",
    "display(train_log)\n",
    "\n",
    "plt.plot(train_log[\"round\"], train_log[\"top1\"], marker=\"o\")\n",
    "plt.title(\"Top-1 Accuracy per Round\")\n",
    "plt.xlabel(\"Round\")\n",
    "plt.ylabel(\"Accuracy\")\n",
    "plt.grid(True)\n",
    "plt.show()"
   ]
  }
 ],
 "metadata": {
  "kernelspec": {
   "display_name": "Python 3 (ipykernel)",
   "language": "python",
   "name": "python3"
  },
  "language_info": {
   "codemirror_mode": {
    "name": "ipython",
    "version": 3
   },
   "file_extension": ".py",
   "mimetype": "text/x-python",
   "name": "python",
   "nbconvert_exporter": "python",
   "pygments_lexer": "ipython3",
   "version": "3.13.5"
  }
 },
 "nbformat": 4,
 "nbformat_minor": 5
}
